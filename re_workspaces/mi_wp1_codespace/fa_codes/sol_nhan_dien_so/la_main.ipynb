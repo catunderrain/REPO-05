{
 "cells": [
  {
   "cell_type": "code",
   "execution_count": 3,
   "metadata": {},
   "outputs": [
    {
     "name": "stdout",
     "output_type": "stream",
     "text": [
      "Downloading data from https://storage.googleapis.com/tensorflow/tf-keras-datasets/mnist.npz\n",
      "11490434/11490434 [==============================] - 1s 0us/step\n",
      "(50000, 28, 28)\n",
      "Y ban dau:  [5 0 4 ... 8 4 8]\n",
      "Y sau:  [[0. 0. 0. ... 0. 0. 0.]\n",
      " [1. 0. 0. ... 0. 0. 0.]\n",
      " [0. 0. 0. ... 0. 0. 0.]\n",
      " ...\n",
      " [0. 0. 0. ... 0. 1. 0.]\n",
      " [0. 0. 0. ... 0. 0. 0.]\n",
      " [0. 0. 0. ... 0. 1. 0.]]\n",
      "Epoch 1/10\n",
      "1563/1563 [==============================] - 95s 61ms/step - loss: 0.2803 - accuracy: 0.9188 - val_loss: 0.0691 - val_accuracy: 0.9809\n",
      "Epoch 2/10\n",
      "1563/1563 [==============================] - 106s 68ms/step - loss: 0.0595 - accuracy: 0.9833 - val_loss: 0.0487 - val_accuracy: 0.9860\n",
      "Epoch 3/10\n",
      "1563/1563 [==============================] - 96s 61ms/step - loss: 0.0380 - accuracy: 0.9893 - val_loss: 0.0475 - val_accuracy: 0.9867\n",
      "Epoch 4/10\n",
      "1563/1563 [==============================] - 86s 55ms/step - loss: 0.0255 - accuracy: 0.9930 - val_loss: 0.0400 - val_accuracy: 0.9891\n",
      "Epoch 5/10\n",
      "1563/1563 [==============================] - 92s 59ms/step - loss: 0.0160 - accuracy: 0.9954 - val_loss: 0.0411 - val_accuracy: 0.9881\n",
      "Epoch 6/10\n",
      "1563/1563 [==============================] - 90s 58ms/step - loss: 0.0115 - accuracy: 0.9968 - val_loss: 0.0370 - val_accuracy: 0.9895\n",
      "Epoch 7/10\n",
      "1563/1563 [==============================] - 95s 61ms/step - loss: 0.0069 - accuracy: 0.9985 - val_loss: 0.0379 - val_accuracy: 0.9893\n",
      "Epoch 8/10\n",
      "1563/1563 [==============================] - 101s 64ms/step - loss: 0.0056 - accuracy: 0.9986 - val_loss: 0.0402 - val_accuracy: 0.9881\n",
      "Epoch 9/10\n",
      "1563/1563 [==============================] - 104s 67ms/step - loss: 0.0047 - accuracy: 0.9988 - val_loss: 0.0385 - val_accuracy: 0.9899\n",
      "Epoch 10/10\n",
      "1563/1563 [==============================] - 112s 71ms/step - loss: 0.0031 - accuracy: 0.9993 - val_loss: 0.0393 - val_accuracy: 0.9896\n"
     ]
    }
   ],
   "source": [
    "import numpy as np\n",
    "import matplotlib.pyplot as plt\n",
    "from keras.models import Sequential\n",
    "from keras.layers import Dense, Dropout, Activation, Flatten\n",
    "from keras.layers import Conv2D, MaxPooling2D\n",
    "from keras.utils import np_utils\n",
    "from keras.datasets import mnist\n",
    "\n",
    "(X_train, y_train), (X_test, y_test) = mnist.load_data()\n",
    "X_val, y_val = X_train[50000:60000,:], y_train[50000:60000]\n",
    "X_train, y_train = X_train[:50000,:], y_train[:50000]\n",
    "print(X_train.shape)\n",
    "X_train = X_train.reshape(X_train.shape[0], 28, 28, 1)\n",
    "X_val = X_val.reshape(X_val.shape[0], 28, 28, 1)\n",
    "X_test = X_test.reshape(X_test.shape[0], 28, 28, 1)\n",
    "\n",
    "Y_train = np_utils.to_categorical(y_train, 10)\n",
    "Y_val = np_utils.to_categorical(y_val, 10)\n",
    "Y_test = np_utils.to_categorical(y_test, 10)\n",
    "print('Y ban dau: ', y_train)\n",
    "print('Y sau: ', Y_train)\n",
    "model = Sequential()\n",
    "model.add(Conv2D(32, (3, 3), activation = 'sigmoid', input_shape = (28, 28, 1)))\n",
    "model.add(Conv2D(32, (3, 3), activation = 'sigmoid'))\n",
    "model.add(MaxPooling2D(pool_size = (2, 2)))\n",
    "model.add(Flatten())\n",
    "model.add(Dense(128, activation = 'sigmoid'))\n",
    "model.add(Dense(10, activation = 'softmax'))\n",
    "model.compile(loss = 'categorical_crossentropy', optimizer = 'adam', metrics = ['accuracy'])\n",
    "H = model.fit(X_train, Y_train, validation_data = (X_val, Y_val), batch_size = 32, epochs = 10, verbose = 1)"
   ]
  },
  {
   "cell_type": "code",
   "execution_count": 4,
   "metadata": {},
   "outputs": [
    {
     "ename": "NameError",
     "evalue": "name 'plt' is not defined",
     "output_type": "error",
     "traceback": [
      "\u001b[1;31m---------------------------------------------------------------------------\u001b[0m",
      "\u001b[1;31mNameError\u001b[0m                                 Traceback (most recent call last)",
      "\u001b[1;32md:\\notedo\\re_workspaces\\mi_wp1\\fa_codes\\sol_nhan_dien_so\\main.ipynb Cell 2\u001b[0m in \u001b[0;36m<cell line: 1>\u001b[1;34m()\u001b[0m\n\u001b[1;32m----> <a href='vscode-notebook-cell:/d%3A/notedo/re_workspaces/mi_wp1/fa_codes/sol_nhan_dien_so/main.ipynb#W1sZmlsZQ%3D%3D?line=0'>1</a>\u001b[0m fig \u001b[39m=\u001b[39m plt\u001b[39m.\u001b[39mfigure()\n\u001b[0;32m      <a href='vscode-notebook-cell:/d%3A/notedo/re_workspaces/mi_wp1/fa_codes/sol_nhan_dien_so/main.ipynb#W1sZmlsZQ%3D%3D?line=1'>2</a>\u001b[0m numOfEpoch \u001b[39m=\u001b[39m \u001b[39m10\u001b[39m\n\u001b[0;32m      <a href='vscode-notebook-cell:/d%3A/notedo/re_workspaces/mi_wp1/fa_codes/sol_nhan_dien_so/main.ipynb#W1sZmlsZQ%3D%3D?line=2'>3</a>\u001b[0m \u001b[39mprint\u001b[39m(H\u001b[39m.\u001b[39mhistory)\n",
      "\u001b[1;31mNameError\u001b[0m: name 'plt' is not defined"
     ]
    }
   ],
   "source": [
    "fig = plt.figure()\n",
    "numOfEpoch = 10\n",
    "print(H.history)\n",
    "plt.plot(np.arange(0, numOfEpoch), H.history['loss'], label = 'training loss')\n",
    "plt.plot(np.arange(0, numOfEpoch), H.history['val_loss'], label = 'validation loss')\n",
    "plt.plot(np.arange(0, numOfEpoch), H.history['accuracy'], label = 'accuracy')\n",
    "plt.plot(np.arange(0, numOfEpoch), H.history['val_accuracy'], label = 'validation accuracy')\n",
    "plt.title('Accuracy and Loss')\n",
    "plt.xlabel('Epoch')\n",
    "plt.ylabel('Accuracy|Loss')\n",
    "plt.legend()\n",
    "score = model.evaluate(X_test, Y_test, verbose = 0)\n",
    "print(score)"
   ]
  },
  {
   "cell_type": "code",
   "execution_count": 3,
   "metadata": {},
   "outputs": [
    {
     "ename": "NameError",
     "evalue": "name 'plt' is not defined",
     "output_type": "error",
     "traceback": [
      "\u001b[1;31m---------------------------------------------------------------------------\u001b[0m",
      "\u001b[1;31mNameError\u001b[0m                                 Traceback (most recent call last)",
      "\u001b[1;32md:\\notedo\\re_workspaces\\mi_wp1\\fa_codes\\sol_nhan_dien_so\\main.ipynb Cell 3\u001b[0m in \u001b[0;36m<cell line: 3>\u001b[1;34m()\u001b[0m\n\u001b[0;32m      <a href='vscode-notebook-cell:/d%3A/notedo/re_workspaces/mi_wp1/fa_codes/sol_nhan_dien_so/main.ipynb#W2sZmlsZQ%3D%3D?line=0'>1</a>\u001b[0m a \u001b[39m=\u001b[39m \u001b[39m2001\u001b[39m\n\u001b[1;32m----> <a href='vscode-notebook-cell:/d%3A/notedo/re_workspaces/mi_wp1/fa_codes/sol_nhan_dien_so/main.ipynb#W2sZmlsZQ%3D%3D?line=2'>3</a>\u001b[0m plt\u001b[39m.\u001b[39mimshow(X_test[a]\u001b[39m.\u001b[39mreshape(\u001b[39m28\u001b[39m, \u001b[39m28\u001b[39m), cmap \u001b[39m=\u001b[39m \u001b[39m'\u001b[39m\u001b[39mgray\u001b[39m\u001b[39m'\u001b[39m)\n\u001b[0;32m      <a href='vscode-notebook-cell:/d%3A/notedo/re_workspaces/mi_wp1/fa_codes/sol_nhan_dien_so/main.ipynb#W2sZmlsZQ%3D%3D?line=3'>4</a>\u001b[0m y_predict \u001b[39m=\u001b[39m model\u001b[39m.\u001b[39mpredict(X_test[a]\u001b[39m.\u001b[39mreshape(\u001b[39m1\u001b[39m, \u001b[39m28\u001b[39m, \u001b[39m28\u001b[39m, \u001b[39m1\u001b[39m))\n\u001b[0;32m      <a href='vscode-notebook-cell:/d%3A/notedo/re_workspaces/mi_wp1/fa_codes/sol_nhan_dien_so/main.ipynb#W2sZmlsZQ%3D%3D?line=4'>5</a>\u001b[0m \u001b[39mprint\u001b[39m(\u001b[39m'\u001b[39m\u001b[39mGia tri du doan: \u001b[39m\u001b[39m'\u001b[39m, np\u001b[39m.\u001b[39margmax(y_predict))\n",
      "\u001b[1;31mNameError\u001b[0m: name 'plt' is not defined"
     ]
    }
   ],
   "source": [
    "a = 2001\n",
    "\n",
    "plt.imshow(X_test[a].reshape(28, 28), cmap = 'gray')\n",
    "y_predict = model.predict(X_test[a].reshape(1, 28, 28, 1))\n",
    "print('Gia tri du doan: ', np.argmax(y_predict))"
   ]
  }
 ],
 "metadata": {
  "kernelspec": {
   "display_name": "Python 3.10.6 64-bit",
   "language": "python",
   "name": "python3"
  },
  "language_info": {
   "codemirror_mode": {
    "name": "ipython",
    "version": 3
   },
   "file_extension": ".py",
   "mimetype": "text/x-python",
   "name": "python",
   "nbconvert_exporter": "python",
   "pygments_lexer": "ipython3",
   "version": "3.10.6"
  },
  "orig_nbformat": 4,
  "vscode": {
   "interpreter": {
    "hash": "f2ccb58c476f33ba3e3aee7ac07234ef6b8217ef24ad64d2a7d4fed1a57c1cd2"
   }
  }
 },
 "nbformat": 4,
 "nbformat_minor": 2
}
