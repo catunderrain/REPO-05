{
 "cells": [
  {
   "cell_type": "code",
   "execution_count": null,
   "metadata": {},
   "outputs": [],
   "source": []
  }
 ],
 "metadata": {
  "kernelspec": {
   "display_name": "Python 3.8.10 64-bit",
   "language": "python",
   "name": "python3"
  },
  "language_info": {
   "name": "python",
   "version": "3.8.10"
  },
  "orig_nbformat": 4,
  "vscode": {
   "interpreter": {
    "hash": "fea989aaa876156c08a300e4d0cc50ce1bf9c85d1e4a173354466ed51b467780"
   }
  }
 },
 "nbformat": 4,
 "nbformat_minor": 2
}
